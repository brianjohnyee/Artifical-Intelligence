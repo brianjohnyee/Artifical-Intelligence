{
 "cells": [
  {
   "cell_type": "markdown",
   "metadata": {
    "colab_type": "text",
    "id": "GD59GvqDmVHl"
   },
   "source": [
    "# CMPS 140"
   ]
  },
  {
   "cell_type": "code",
   "execution_count": 1,
   "metadata": {
    "colab": {},
    "colab_type": "code",
    "deletable": false,
    "editable": false,
    "id": "WaXG7T9RmVHw",
    "nbgrader": {
     "checksum": "8afa7796894837e54496378e3d592d5b",
     "grade": false,
     "grade_id": "cell-aa3d2d3b46546205",
     "locked": true,
     "schema_version": 1,
     "solution": false
    }
   },
   "outputs": [],
   "source": [
    "class Node:\n",
    "    \"\"\"\n",
    "    This class describes a single node contained within a graph. \n",
    "    It has the following instannce level attributes:\n",
    "    \n",
    "    ID: An integer id for the node i.e. 1\n",
    "    heuristic_cost: A float value representing the estimated \n",
    "                    cost to the goal node\n",
    "    \"\"\"    \n",
    "    def __init__(self, ID, heuristic_cost):\n",
    "        self.ID = ID\n",
    "        self.connected_nodes = []\n",
    "        self.heuristic_cost = heuristic_cost\n",
    "        \n",
    "    def __repr__(self):\n",
    "        ID = self.ID\n",
    "        hx = self.heuristic_cost\n",
    "        if len(self.connected_nodes)==0:\n",
    "            nodes = 'None'\n",
    "        else:\n",
    "            nodes = ','.join(str(cn[1].ID) for cn in self.connected_nodes)\n",
    "        return 'Node:{}\\nh(n):{}\\nConnected Nodes:{}'.format(ID, hx, nodes)\n",
    "        \n",
    "    def set_connected_nodes(self,connected_nodes):\n",
    "        \"\"\"\n",
    "        Adds edges that lead from this node to other nodes:\n",
    "        \n",
    "        Parameters:\n",
    "        - connected_nodes: A list of tuples consisting of (cost, Node), \n",
    "                           where 'cost' is a floating point value \n",
    "                           indicating the cost to get from this node \n",
    "                           to 'Node' and 'Node' is a Node object\n",
    "        \"\"\"\n",
    "        self.connected_nodes = connected_nodes\n",
    "    \n",
    "def build_graph():\n",
    "    \"\"\"\n",
    "    Builds the graph to be parsed by the search algorithms.\n",
    "    Returns: The starting node, which is the entry point into the graph\n",
    "    \"\"\"\n",
    "    ids = range(13)\n",
    "    coords = [(0,0), (1,1), (1,0), (1,1), (5,2), (3,1), (3,0), \n",
    "              (3,-1), (5,1), (4,1), (4,0), (4,-2), (7,0)]\n",
    "    \n",
    "    #https://en.wikipedia.org/wiki/Euclidean_distance\n",
    "    euclidean_distance = lambda x1y1, x2y2: ((x1y1[0]-x2y2[0])**2 +  (x1y1[1]-x2y2[1])**2)**(0.5)\n",
    "    \n",
    "    def build_connected_node_list(from_id, to_ids):\n",
    "        starting_coords = coords[from_id]\n",
    "        \n",
    "        connected_nodes = []\n",
    "        for to_id in to_ids:\n",
    "            connected_nodes.append((euclidean_distance(starting_coords, coords[to_id]), all_nodes[to_id]))\n",
    "            \n",
    "        return connected_nodes\n",
    "    \n",
    "    goal_coords = (7,0)\n",
    "    all_nodes = [Node(_id, euclidean_distance(coord, goal_coords)) for _id, coord in zip(ids, coords)]\n",
    "    \n",
    "    all_nodes[8].set_connected_nodes(build_connected_node_list(8, [12]))\n",
    "    all_nodes[10].set_connected_nodes(build_connected_node_list(10,[12]))\n",
    "    all_nodes[5].set_connected_nodes(build_connected_node_list(5, [8]))\n",
    "    all_nodes[6].set_connected_nodes(build_connected_node_list(6, [9, 10]))\n",
    "    all_nodes[7].set_connected_nodes(build_connected_node_list(7, [11]))\n",
    "    all_nodes[1].set_connected_nodes(build_connected_node_list(1, [4,5]))\n",
    "    all_nodes[2].set_connected_nodes(build_connected_node_list(2, [5,6]))\n",
    "    all_nodes[3].set_connected_nodes(build_connected_node_list(3, [7]))\n",
    "    all_nodes[0].set_connected_nodes(build_connected_node_list(0, [1,2,3]))\n",
    "    \n",
    "    return all_nodes[0]"
   ]
  },
  {
   "cell_type": "code",
   "execution_count": 2,
   "metadata": {
    "colab": {},
    "colab_type": "code",
    "id": "mRDeqsuOmVHy",
    "outputId": "91e644c3-f02c-43e8-cf9a-a203eac94eb7"
   },
   "outputs": [
    {
     "data": {
      "text/plain": [
       "Node:0\n",
       "h(n):7.0\n",
       "Connected Nodes:1,2,3"
      ]
     },
     "execution_count": 2,
     "metadata": {},
     "output_type": "execute_result"
    }
   ],
   "source": [
    "# The starting node. You can use this cell to familiarize\n",
    "# yourself with the node/graph structure\n",
    "build_graph()"
   ]
  },
  {
   "cell_type": "markdown",
   "metadata": {
    "colab_type": "text",
    "deletable": false,
    "editable": false,
    "id": "m4nC3XlZmVHv",
    "nbgrader": {
     "checksum": "cf51e04c44eaeccc4593f75f151120c6",
     "grade": false,
     "grade_id": "cell-005d8e6b2614e4b0",
     "locked": true,
     "schema_version": 1,
     "solution": false
    }
   },
   "source": [
    "## Question 1\n",
    "\n",
    "![graph](https://docs.google.com/drawings/d/e/2PACX-1vStncj9Nc0LddQeViaYnykNxEZsJoYJMHhub2LLX8s7k7gwYjlnlt0cCcivymFihiZyOOMtHwzk1Z4G/pub?w=960&amp;h=720)\n",
    "\n",
    "Given the above graph implement the following search algorithms:\n",
    "\n",
    "1. **Depth First Search** (Graph Style) (Textbook Section 3.4.3)\n",
    "2. **Iterative Deepening Depth-First Search** (Textbook Section 3.4.5)\n",
    "3. **A* Search** (A-Star) (Textbook Section 3.5.2)\n",
    "\n",
    "\n",
    "\n",
    "You will implement each of these search algorithms as a function with the following signature:\n",
    "\n",
    "```python\n",
    "def search_algorithm(starting_node, goal_node):\n",
    "    \"\"\"\n",
    "    This function implements a search algorithm.\n",
    "    Parameters:\n",
    "    - starting_node: The entry node into the graph\n",
    "    - goal_node: The integer ID of the goal node.\n",
    "    \n",
    "    Returns:\n",
    "    A list containing the visited node ids in order they were visited with starting node\n",
    "    always being the first node and the goal node always being the last\n",
    "    \"\"\"\n",
    "    \n",
    "    visited_nodes_in_order = []\n",
    "    \n",
    "    # algorithm implemented here\n",
    "    \n",
    "    return visited_nodes_in_order\n",
    "```\n",
    "\n",
    "\n",
    "I have put skeleton methods for each of the algorithms for you to fill in.\n",
    "\n",
    "Here are the pseudo code/descriptions implemenatations from the book.\n",
    "\n",
    "# Depth First Search\n",
    "---\n",
    "![dfs.png](https://lh3.googleusercontent.com/y8b0v4eTG2xfUqkWFm7H_RTb_sJ1ERBiyfWjkClb7GtRUsbAFwpECMnL9JfyTcY4AAhBhCWQiQlLhAmWPQLAN_6Ja_WMFEn5U0PoXaPqNJvKjEf9hW6Meq5xyHdygXqB-WzdBRmVEA=w2400)\n",
    "![dfs-desc.png](https://lh3.googleusercontent.com/dIDKkPQZ7Vn-HfQ0WPlpthT_RkrQ86lH11hjLceUcDvFF2BCZs2RrfRfEiXgpZVG35vkGkLg6q3nISYeEUriPfwVxSNmhxOO0Gujl43G1lRsN8dTBTaxT8baX8tMu0st49R_CsWBKw=w2400)\n",
    "\n",
    "# Iterative Deepening Depth First Search\n",
    "---\n",
    "![iddfs.png](https://lh3.googleusercontent.com/HrkCyMnoMPZoDELRdqx1cakdgA2rPZ2ImIg5n5XE-A5MXwHch7ZZ6uBE4vmVXv34V6BRFOgyrHl6aTXMm0qijA8s47zda7s9dKDDYzEH1mTnhEPWvOM9r1gE1wwXfXP0_3T22zFO0Q=w2400)\n",
    "![dls.png](https://lh3.googleusercontent.com/w78lEVXUJitCh8WebB49DACKztyErtXTPi4ybHE0ai5L1orFkdYMtc7AfzdiXF1uuotahgqXoYHeaBpeExztTFR0GvKMIE4ddrYoHe6qSea3zL9TQh6LRYHV69cA3pXGt1nyl3Injg=w2400)\n",
    "\n",
    "# A* Search\n",
    "---\n",
    "![astar](https://lh3.googleusercontent.com/Mp31KIl0a7Eu3ky0WU2QaqMBaAZRFH2ed48ua0dAr-P7GQqwyyYi7MT0NzP-2yaF-YQaykasARoUUUolghYc_Vszd4JCYSbKHQMUaAiT2Np9Khypz7NhwMhDOybJGJPdb1e_6oU1RQ=w2400)\n",
    "\n",
    "# NOTES\n",
    "---\n",
    " - If two nodes are considered equally good chocices, take the node with the lower ID first. \n",
    " - Do not revisit already explored nodes when implementing the Depth First Search.\n",
    " \n",
    " "
   ]
  },
  {
   "cell_type": "code",
   "execution_count": 3,
   "metadata": {
    "colab": {},
    "colab_type": "code",
    "deletable": false,
    "id": "xTef9-thmVH4",
    "nbgrader": {
     "checksum": "37b87c3f1397735e3df73a3ac59cd58d",
     "grade": false,
     "grade_id": "cell-8782a75d513b1327",
     "locked": false,
     "schema_version": 1,
     "solution": true
    }
   },
   "outputs": [],
   "source": [
    "def depth_first_search(starting_node, goal_node):\n",
    "    \"\"\"\n",
    "    This function implements the depth first search algorithm\n",
    "    \n",
    "    Parameters:\n",
    "    - starting_node: The entry node into the graph\n",
    "    - goal_node: The integer ID of the goal node.\n",
    "    \n",
    "    Returns:\n",
    "    A list containing the visited nodes in order they were visited with starting node\n",
    "    always being the first node and the goal node always being the last\n",
    "    \"\"\"\n",
    "    visited_nodes_in_order = []\n",
    "    \n",
    "    # YOUR CODE HERE\n",
    "    #raise NotImplementedError()\n",
    "    DFS = []\n",
    "    Checked = []\n",
    "    DFS.append(starting_node)\n",
    "    while DFS:\n",
    "        vertex_check = DFS.pop()\n",
    "        if vertex_check.ID == goal_node:\n",
    "            visited_nodes_in_order.append(vertex_check.ID)\n",
    "            break\n",
    "        else:\n",
    "            # check to see if we have already visited the node, if not proceed\n",
    "            if vertex_check.ID not in Checked:\n",
    "                Checked.append(vertex_check.ID)\n",
    "                visited_nodes_in_order.append(vertex_check.ID)\n",
    "                for length in range(0,len(vertex_check.connected_nodes)):\n",
    "                    DFS.append(vertex_check.connected_nodes[len(vertex_check.connected_nodes)-1-length][1])\n",
    "        \n",
    "    \n",
    "    return visited_nodes_in_order\n",
    "\n",
    "def iterative_deepening_depth_first_search(starting_node, goal_node):\n",
    "    \"\"\"\n",
    "    This function implements the iterative deepening depth first search algorithm\n",
    "    \n",
    "    Parameters:\n",
    "    - starting_node: The entry node into the graph\n",
    "    - goal_node: The integer ID of the goal node.\n",
    "    \n",
    "    Returns:\n",
    "    A list containing the visited node ids in order they were visited with starting node\n",
    "    always being the first node and the goal node always being the last\n",
    "    \"\"\"\n",
    "    visited_nodes_in_order = []\n",
    "    \n",
    "    # YOUR CODE HERE\n",
    "    #raise NotImplementedError()\n",
    "    \n",
    "    DFS = []\n",
    "    DFS.append(starting_node)\n",
    "    visited_nodes_in_order.append(starting_node.ID)\n",
    "    i = 1\n",
    "    while DFS[-1] != goal_node:\n",
    "        iteration = depth_limit_search(starting_node, goal_node, i)\n",
    "        i += 1\n",
    "        visited_nodes_in_order.extend(iteration)\n",
    "        DFS = iteration\n",
    "    #print(len(visited_nodes_in_order))\n",
    "    return visited_nodes_in_order\n",
    "    \n",
    "# helper function for iterative_deepening_depth_first_search\n",
    "def depth_limit_search(starting_node, goal_node, limit):\n",
    "    visited_nodes = []\n",
    "    visited_nodes.append(starting_node.ID)\n",
    "    if starting_node.ID == goal_node or limit == 0:\n",
    "        return visited_nodes\n",
    "    else:\n",
    "        for length in range (len(starting_node.connected_nodes)):\n",
    "            #print(limit)\n",
    "            checked = depth_limit_search(starting_node.connected_nodes[length][1], goal_node, limit-1)\n",
    "            if checked is not None:\n",
    "                visited_nodes.extend(checked)\n",
    "            if visited_nodes[-1] == goal_node:\n",
    "                break\n",
    "        return visited_nodes\n",
    "    \n",
    "# https://www.geeksforgeeks.org/a-search-algorithm/\n",
    "# pseduocode I used for reference\n",
    "def a_star_search(starting_node, goal_node):\n",
    "    \"\"\"\n",
    "    This function implements the A* search algorithm\n",
    "    \n",
    "    Parameters:\n",
    "    - starting_node: The entry node into the graph\n",
    "    - goal_node: The integer ID of the goal node.\n",
    "    \n",
    "    Returns:\n",
    "    A list containing the visited node ids in order they were visited with starting node\n",
    "    always being the first node and the goal node always being the last\n",
    "    \"\"\"\n",
    "    visited_nodes_in_order = []\n",
    "    \n",
    "    # YOUR CODE HERE\n",
    "    #raise NotImplementedError()\n",
    "    open = []\n",
    "    close = []\n",
    "    f_x = []\n",
    "    f_x.append(0)\n",
    "    open.append(starting_node)\n",
    "    currentNode = open[0]\n",
    "    while open:\n",
    "        index=0\n",
    "        for i in range(len(open)):\n",
    "            # picks the node with lowest cost\n",
    "            if f_x[i] < f_x[index]:\n",
    "                #print(f_x[i])\n",
    "                index = i\n",
    "        currentNode = open[index]\n",
    "        open.pop(index)\n",
    "        f_x.pop(index)\n",
    "        close.append(currentNode)\n",
    "        visited_nodes_in_order.append(currentNode.ID)\n",
    "        if currentNode.ID == goal_node:\n",
    "            #print(\"hi\")\n",
    "            return visited_nodes_in_order\n",
    "        for i in range(len(currentNode.connected_nodes)):\n",
    "            if currentNode.connected_nodes[i][1] not in close:\n",
    "                cost = currentNode.connected_nodes[i][1].heuristic_cost\n",
    "                open.append(currentNode.connected_nodes[i][1])\n",
    "                f_x.append(cost)\n",
    "                #print(cost)\n",
    "    return visited_nodes_in_order\n"
   ]
  },
  {
   "cell_type": "code",
   "execution_count": 4,
   "metadata": {
    "colab": {},
    "colab_type": "code",
    "deletable": false,
    "editable": false,
    "id": "5IE8ioWkmVH8",
    "nbgrader": {
     "checksum": "e1a894657841b4d6498afc844c7fd3f7",
     "grade": true,
     "grade_id": "cell-0c19db32d84a442e",
     "locked": true,
     "points": 0,
     "schema_version": 1,
     "solution": false
    },
    "outputId": "cb7a3583-6e77-45ed-ce07-d97d89a5160b"
   },
   "outputs": [],
   "source": [
    "goal_node = 12\n",
    "depth_first_search_answer = [0, 1, 4, 5, 8, 12]\n",
    "iterative_deepening_depth_first_search_answer = [0, 0, 1, 2, 3, 0, 1,\n",
    "                                                 4, 5, 2, 5, 6, 3, 7,\n",
    "                                                 0, 1, 4, 5, 8, 2, 5,\n",
    "                                                 8, 6, 9, 10, 3, 7, 11,\n",
    "                                                 0, 1, 4, 5, 8, 12]\n",
    "a_star_search_answer = [0, 2, 6, 10, 12]\n",
    "\n",
    "assert (depth_first_search(build_graph(), goal_node)==depth_first_search_answer)\n",
    "assert (iterative_deepening_depth_first_search(build_graph(), goal_node)==iterative_deepening_depth_first_search_answer)\n",
    "assert (a_star_search(build_graph(), goal_node)==a_star_search_answer)"
   ]
  },
  {
   "cell_type": "markdown",
   "metadata": {
    "colab_type": "text",
    "deletable": false,
    "id": "f3e8V9G8mVIB",
    "nbgrader": {
     "checksum": "3df56022f223af2d0f27060bc9f1ab63",
     "grade": true,
     "grade_id": "cell-dc1edc8aa056f275",
     "locked": false,
     "points": 0,
     "schema_version": 1,
     "solution": true
    }
   },
   "source": [
    "[YOUR ANSWER HERE]"
   ]
  },
  {
   "cell_type": "code",
   "execution_count": 16,
   "metadata": {},
   "outputs": [
    {
     "data": {
      "text/plain": [
       "Node:0\n",
       "h(n):7.0\n",
       "Connected Nodes:1,2,3"
      ]
     },
     "execution_count": 16,
     "metadata": {},
     "output_type": "execute_result"
    }
   ],
   "source": [
    "build_graph()"
   ]
  },
  {
   "cell_type": "code",
   "execution_count": 17,
   "metadata": {},
   "outputs": [
    {
     "data": {
      "text/plain": [
       "[0, 1, 4, 5, 8, 12]"
      ]
     },
     "execution_count": 17,
     "metadata": {},
     "output_type": "execute_result"
    }
   ],
   "source": [
    "depth_first_search(build_graph(), 12)"
   ]
  },
  {
   "cell_type": "code",
   "execution_count": 18,
   "metadata": {},
   "outputs": [
    {
     "data": {
      "text/plain": [
       "[0,\n",
       " 0,\n",
       " 1,\n",
       " 2,\n",
       " 3,\n",
       " 0,\n",
       " 1,\n",
       " 4,\n",
       " 5,\n",
       " 2,\n",
       " 5,\n",
       " 6,\n",
       " 3,\n",
       " 7,\n",
       " 0,\n",
       " 1,\n",
       " 4,\n",
       " 5,\n",
       " 8,\n",
       " 2,\n",
       " 5,\n",
       " 8,\n",
       " 6,\n",
       " 9,\n",
       " 10,\n",
       " 3,\n",
       " 7,\n",
       " 11,\n",
       " 0,\n",
       " 1,\n",
       " 4,\n",
       " 5,\n",
       " 8,\n",
       " 12]"
      ]
     },
     "execution_count": 18,
     "metadata": {},
     "output_type": "execute_result"
    }
   ],
   "source": [
    "iterative_deepening_depth_first_search(build_graph(), 12)"
   ]
  },
  {
   "cell_type": "code",
   "execution_count": 19,
   "metadata": {},
   "outputs": [
    {
     "data": {
      "text/plain": [
       "[0, 2, 6, 10, 12]"
      ]
     },
     "execution_count": 19,
     "metadata": {},
     "output_type": "execute_result"
    }
   ],
   "source": [
    "a_star_search(build_graph(), 12)"
   ]
  },
  {
   "cell_type": "code",
   "execution_count": null,
   "metadata": {},
   "outputs": [],
   "source": []
  },
  {
   "cell_type": "code",
   "execution_count": null,
   "metadata": {},
   "outputs": [],
   "source": []
  },
  {
   "cell_type": "code",
   "execution_count": null,
   "metadata": {},
   "outputs": [],
   "source": []
  },
  {
   "cell_type": "code",
   "execution_count": null,
   "metadata": {},
   "outputs": [],
   "source": []
  },
  {
   "cell_type": "code",
   "execution_count": null,
   "metadata": {},
   "outputs": [],
   "source": []
  },
  {
   "cell_type": "code",
   "execution_count": null,
   "metadata": {},
   "outputs": [],
   "source": []
  },
  {
   "cell_type": "code",
   "execution_count": null,
   "metadata": {},
   "outputs": [],
   "source": []
  },
  {
   "cell_type": "code",
   "execution_count": null,
   "metadata": {},
   "outputs": [],
   "source": []
  },
  {
   "cell_type": "code",
   "execution_count": null,
   "metadata": {},
   "outputs": [],
   "source": []
  },
  {
   "cell_type": "code",
   "execution_count": null,
   "metadata": {},
   "outputs": [],
   "source": []
  },
  {
   "cell_type": "code",
   "execution_count": null,
   "metadata": {},
   "outputs": [],
   "source": []
  },
  {
   "cell_type": "code",
   "execution_count": null,
   "metadata": {},
   "outputs": [],
   "source": []
  },
  {
   "cell_type": "code",
   "execution_count": null,
   "metadata": {},
   "outputs": [],
   "source": []
  },
  {
   "cell_type": "code",
   "execution_count": null,
   "metadata": {},
   "outputs": [],
   "source": []
  }
 ],
 "metadata": {
  "colab": {
   "name": "Assignment2.ipynb",
   "provenance": [],
   "version": "0.3.2"
  },
  "kernelspec": {
   "display_name": "Python 2",
   "language": "python",
   "name": "python2"
  },
  "language_info": {
   "codemirror_mode": {
    "name": "ipython",
    "version": 2
   },
   "file_extension": ".py",
   "mimetype": "text/x-python",
   "name": "python",
   "nbconvert_exporter": "python",
   "pygments_lexer": "ipython2",
   "version": "2.7.15"
  }
 },
 "nbformat": 4,
 "nbformat_minor": 1
}
